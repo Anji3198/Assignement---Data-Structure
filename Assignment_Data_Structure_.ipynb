{
  "nbformat": 4,
  "nbformat_minor": 0,
  "metadata": {
    "colab": {
      "provenance": []
    },
    "kernelspec": {
      "name": "python3",
      "display_name": "Python 3"
    },
    "language_info": {
      "name": "python"
    }
  },
  "cells": [
    {
      "cell_type": "markdown",
      "source": [
        "#**Theory Question**"
      ],
      "metadata": {
        "id": "VwJ_XmqzfVYa"
      }
    },
    {
      "cell_type": "markdown",
      "source": [
        "1 -  What are data structures, and why are they important?\n",
        " - Data structures are ways of organizing and storing data in a computer to enable efficient access and modification. They include arrays, lists, stacks, queues, trees, graphs, and hash tables.\n",
        "\n",
        "Importance:\n",
        "\n",
        "- Efficiency: Helps in performing operations like searching, inserting, and deleting quickly.\n",
        "\n",
        "- Memory management: Optimizes memory usage.\n",
        "\n",
        "- Problem-solving: Different structures suit different problems.\n",
        "\n",
        "- Performance: Affects time complexity and scalability of algorithms.\n"
      ],
      "metadata": {
        "id": "7ILFUHJ-fpN7"
      }
    },
    {
      "cell_type": "markdown",
      "source": [
        "2 - Explain the difference between mutable and immutable data types with examples.\n",
        "- Mutable data types can be modified after they are created, while immutable data types cannot be changed once they are created.\n",
        "- Mutable: lists, dictionaries, sets\n",
        "- Immutable: strings, tuples, integers\n"
      ],
      "metadata": {
        "id": "yCWjQLA0haMG"
      }
    },
    {
      "cell_type": "markdown",
      "source": [
        "3 - What are the main differences between lists and tuples in Python?\n",
        "- List are mutable that can be modifies whereas tuple are immutable cannot be modifies.\n",
        "- List are defined with brackets [ ]. Tuple are defines with parentheses ( ).\n",
        "- Lists are slower due to its mutability and tuple are future because it is mutability.\n",
        "- List are suitable for collection that need modification and tuple for fixed collection which are often used as keys in dictionaries.\n",
        "\n"
      ],
      "metadata": {
        "id": "TB3biUeFjtzC"
      }
    },
    {
      "cell_type": "markdown",
      "source": [
        "4 -  Describe how dictionaries store data.\n",
        "- Dictionaries store data as key-value pairs. Each key is unique, and it maps to a specific value. The data is stored in an unordered collection, and you access the values using their corresponding keys.\n",
        "- Example:\n",
        "\n",
        "my_dict = {\"name\": \"Alice\", \"age\": 25}\n",
        "\n",
        "print(my_dict[\"name\"])"
      ],
      "metadata": {
        "id": "-z0Gkr0DlNG2"
      }
    },
    {
      "cell_type": "markdown",
      "source": [
        "5 - Why might you use a set instead of a list in Python?\n",
        "- Uniqueness: Sets automatically eliminate duplicate elements, ensuring all values are unique.\n",
        "\n",
        "- Efficiency: Sets provide faster membership testing (in), as they use a hash-based structure.\n",
        "\n",
        "- Mathematical operations: Sets support operations like union, intersection, and difference.\n",
        "\n",
        "- Example:\n",
        "\n",
        "my_set = {1, 2, 3}\n",
        "\n",
        "my_set.add(3)  # No duplicate added\n"
      ],
      "metadata": {
        "id": "uIXKCuzmmY_O"
      }
    },
    {
      "cell_type": "markdown",
      "source": [
        "6 - What is a string in Python, and how is it different from a list?\n",
        "- String is a sequence of characters enclosed in quotes (single, double, or triple quotes). It is immutable, meaning once created, it cannot be modified whereas list is an ordered collection of items (which can be of different types), and it is mutable, meaning you can modify, add, or remove elements.\n",
        "\n",
        "- String contains only characters whereas list can contain different data types (numbers, strings, etc.)\n",
        "\n",
        "- Example -\n",
        "\n",
        "my_str = \"Hello\"\n",
        "\n",
        "my_list = [1, \"Hello\", 3.14]\n"
      ],
      "metadata": {
        "id": "5tLuDk6wm-dR"
      }
    },
    {
      "cell_type": "markdown",
      "source": [
        "7 -  How do tuples ensure data integrity in Python?\n",
        "- Tuples ensure data integrity in Python by being immutable, meaning once created, their data cannot be changed, added, or removed. This prevents accidental modifications, ensuring the data remains constant and reliable.\n",
        "\n",
        "- In short, tuples protect data integrity by not allowing any modifications after creation."
      ],
      "metadata": {
        "id": "LMPxIjWloLGb"
      }
    },
    {
      "cell_type": "markdown",
      "source": [
        "8 -  What is a hash table, and how does it relate to dictionaries in Python?\n",
        "- A hash table is a data structure that stores key-value pairs, where keys are hashed to produce an index for fast access to values. The hash function ensures quick lookups, insertions, and deletions by mapping keys to unique positions.\n",
        "\n",
        "- In Python, dictionaries are implemented using hash tables. Each key in a dictionary is hashed, and the corresponding value is stored at the computed index for efficient retrieval.\n",
        "\n",
        "- In short, a hash table is the underlying mechanism that powers dictionaries in Python, enabling fast key-based lookups."
      ],
      "metadata": {
        "id": "Xv1DjQGhoeJJ"
      }
    },
    {
      "cell_type": "markdown",
      "source": [
        "9 - Can lists contain different data types in Python?\n",
        "- Yes, in Python, lists can contain elements of different data types. A list is an ordered collection, and its elements can be of any type, such as integers, strings, floats, or even other lists.\n",
        "\n",
        "-Example:\n",
        "\n",
        " my_list = [1, \"hello\", 3.14, [2, 3]]\n",
        "\n",
        "print(my_list)  "
      ],
      "metadata": {
        "id": "_JZMcHEcowzl"
      }
    },
    {
      "cell_type": "markdown",
      "source": [
        "10 - Explain why strings are immutable in Python.\n",
        "- Strings are **immutable** in Python to ensure data integrity and efficiency. Since strings are often used in many places, making them immutable allows Python to optimize memory usage and avoid accidental modification of string values, ensuring their consistency throughout the program.\n",
        "\n",
        "- In short, **immutability** of strings ensures stability, performance, and memory efficiency."
      ],
      "metadata": {
        "id": "isunRKXLpKIF"
      }
    },
    {
      "cell_type": "markdown",
      "source": [
        "11 - What advantages do dictionaries offer over lists for certain tasks?\n",
        "- Dictionaries offer several advantages over lists for certain tasks:\n",
        "\n",
        "  - Fast lookups: Dictionaries provide O(1) average-time complexity for key-based lookups, while lists require O(n) for searching.\n",
        "\n",
        "  - Unique keys: Dictionaries ensure unique keys, preventing duplicates, whereas lists allow repeated elements.\n",
        "\n",
        "  - Flexible key-value pairs: Dictionaries store data in key-value pairs, making them ideal for associating related data, unlike lists which are just ordered collections."
      ],
      "metadata": {
        "id": "35fm_UG6pZWZ"
      }
    },
    {
      "cell_type": "markdown",
      "source": [
        "12 - Describe a scenario where using a tuple would be preferable over a list.\n",
        "- A tuple would be preferable over a list when you need to store immutable data that should not be modified, such as coordinates (latitude, longitude) or fixed configurations. Since tuples are faster and protect data integrity, they are ideal for data that should remain constant throughout the program.\n",
        "\n",
        "- In short, use a tuple when the data should be unchangeable and stable."
      ],
      "metadata": {
        "id": "dy0BCJDlpuZW"
      }
    },
    {
      "cell_type": "markdown",
      "source": [
        "13 - How do sets handle duplicate values in Python?\n",
        "- Sets automatically remove duplicate values. When you try to add a duplicate item to a set, it will not be added, ensuring that all elements are unique.\n",
        "\n",
        "- Example:\n",
        "\n",
        " my_set = {1, 2, 3, 3}\n",
        "\n",
        " print(my_set)  # Output: {1, 2, 3}\n"
      ],
      "metadata": {
        "id": "SlPS5yfdqCj1"
      }
    },
    {
      "cell_type": "markdown",
      "source": [
        "14 -  How does the “in” keyword work differently for lists and dictionaries?\n",
        "- It checks if a value exists in the list.\n",
        "  - Example:\n",
        "   \n",
        "   my_list = [1, 2, 3]\n",
        "\n",
        "   print(2 in my_list)  # Output: True\n",
        "- It checks if a key exists in the dictionary.\n",
        "  \n",
        "  - EXample:\n",
        "\n",
        "  my_dict = {\"a\": 1, \"b\": 2}\n",
        "\n",
        "  print(\"a\" in my_dict)  # Output: True\n"
      ],
      "metadata": {
        "id": "xR8QKh3qqYRd"
      }
    },
    {
      "cell_type": "markdown",
      "source": [
        "15 - Can you modify the elements of a tuple? Explain why or why not.\n",
        "- No, you cannot modify the elements of a tuple because tuples are immutable. Once created, their values cannot be changed, added, or removed, ensuring data integrity and enabling performance optimizations.\n",
        "\n",
        "- In short, tuples are immutable, so their elements cannot be modified.\n"
      ],
      "metadata": {
        "id": "QaQTq41rr2Z_"
      }
    },
    {
      "cell_type": "markdown",
      "source": [
        "16 - What is a nested dictionary, and give an example of its use case?\n",
        "-  A nested dictionary is a dictionary where the values themselves are dictionaries. This allows you to store hierarchical data or more complex relationships.\n",
        "- Use case:A nested dictionary is useful for representing structured data like a student's information where a student has multiple attributes (name, age) and nested information (grades for different courses).\n",
        "\n",
        "- Example:\n",
        "\n",
        "student = {\n",
        "    \n",
        "    \"name\": \"Alice\",\n",
        "    \n",
        "    \"age\": 20,\n",
        "    \n",
        "    \"courses\": {\n",
        "    \n",
        "        \"math\": \"A\",\n",
        "    \n",
        "        \"science\": \"B\",\n",
        "    \n",
        "        \"history\": \"A\"\n",
        "    }\n",
        "}\n"
      ],
      "metadata": {
        "id": "USFej92msJzB"
      }
    },
    {
      "cell_type": "markdown",
      "source": [
        "17 -Describe the time complexity of accessing elements in a dictionary.\n",
        "- Accessing elements in a dictionary has an average time complexity of O(1). This means it takes constant time to retrieve a value using its key, thanks to the underlying hash table structure.\n",
        "\n",
        "- In short, dictionary lookups are fast, with an average time complexity of O(1)."
      ],
      "metadata": {
        "id": "COkwtCxYs32s"
      }
    },
    {
      "cell_type": "markdown",
      "source": [
        "18 -In what situations are lists preferred over dictionaries?\n",
        "- Lists are preferred over dictionaries when:\n",
        "\n",
        " - Order matters: Lists maintain the order of elements.\n",
        "\n",
        " - Indexed access by position: You need to access elements by their index (position) rather than by a key.\n",
        "\n",
        " -Duplicate elements: You need to store multiple occurrences of the same value.\n",
        "\n",
        "\n",
        "\n",
        "\n"
      ],
      "metadata": {
        "id": "GKwOQS1stIiR"
      }
    },
    {
      "cell_type": "markdown",
      "source": [
        "19 Why are dictionaries considered unordered, and how does that affect data retrieval?\n",
        "- Dictionaries are considered unordered because they store key-value pairs in a way that doesn't maintain any specific order of elements. The order of items in a dictionary is determined by the hash function used to store the keys, not their insertion order.\n",
        "\n",
        "- Impact on Data Retrieval:\n",
        "  - Keys: You retrieve values using specific keys, not positions or indices, so the lack of order doesn't affect how you access the data.\n",
        "\n",
        "  - Performance: Since dictionaries use hash tables, retrieval is fast (average O(1) time complexity), but the order of the data is irrelevant for key-based lookups."
      ],
      "metadata": {
        "id": "XcnHbYF8tls6"
      }
    },
    {
      "cell_type": "markdown",
      "source": [
        "20 - Explain the difference between a list and a dictionary in terms of data retrieval.\n",
        "- In a list, data is retrieved by index (position), while in a dictionary, data is retrieved by key (unique identifier).\n",
        "\n",
        " - List: Accessed via index (my_list[0]).\n",
        "\n",
        "  - Dictionary: Accessed via key (my_dict[\"key\"]).\n",
        "\n"
      ],
      "metadata": {
        "id": "ti_gCamtt_W-"
      }
    },
    {
      "cell_type": "markdown",
      "source": [
        "# **Practical Question**"
      ],
      "metadata": {
        "id": "TjMjAeMXg0Oo"
      }
    },
    {
      "cell_type": "code",
      "source": [
        "# 1 - Write a code to create a string with your name and print it.\n",
        "\n",
        "name = \"Anjali Singh\"\n",
        "\n",
        "print(name)\n"
      ],
      "metadata": {
        "colab": {
          "base_uri": "https://localhost:8080/"
        },
        "id": "sxym7Nnwg9Zs",
        "outputId": "0496a4b9-83e3-4061-d518-c8dd01aa0fd3"
      },
      "execution_count": 3,
      "outputs": [
        {
          "output_type": "stream",
          "name": "stdout",
          "text": [
            "Anjali Singh\n"
          ]
        }
      ]
    },
    {
      "cell_type": "code",
      "source": [
        "# 2 - Write a code to find the length of the string \"Hello World\"P\n",
        "\n",
        "string = \"Hello World\"\n",
        "length = len(string)\n",
        "\n",
        "print(length)"
      ],
      "metadata": {
        "colab": {
          "base_uri": "https://localhost:8080/"
        },
        "id": "C778-OUcieg5",
        "outputId": "a6cdb4ea-bef7-4ae3-fe73-92b1fcda4743"
      },
      "execution_count": 4,
      "outputs": [
        {
          "output_type": "stream",
          "name": "stdout",
          "text": [
            "11\n"
          ]
        }
      ]
    },
    {
      "cell_type": "code",
      "source": [
        "# 3 - Write a code to slice the first 3 characters from the string \"Python Programming\".\n",
        "\n",
        "string = \"Python Programming\"\n",
        "sliced_string = string[:3]\n",
        "\n",
        "print(sliced_string)"
      ],
      "metadata": {
        "colab": {
          "base_uri": "https://localhost:8080/"
        },
        "id": "NpHYvJgwjLbd",
        "outputId": "7a83b671-f419-4423-aaa3-29a6d79d21c0"
      },
      "execution_count": 5,
      "outputs": [
        {
          "output_type": "stream",
          "name": "stdout",
          "text": [
            "Pyt\n"
          ]
        }
      ]
    },
    {
      "cell_type": "code",
      "source": [
        "# 4 - Write a code to convert the string \"hello\" to uppercase.\n",
        "\n",
        "word = \"hello\"\n",
        "uppercase_string  = word.upper()\n",
        "\n",
        "print(uppercase_string)"
      ],
      "metadata": {
        "colab": {
          "base_uri": "https://localhost:8080/"
        },
        "id": "TQ6SFChAj57S",
        "outputId": "d4c418c0-a590-4c9e-9cf4-b5fffdce355c"
      },
      "execution_count": 6,
      "outputs": [
        {
          "output_type": "stream",
          "name": "stdout",
          "text": [
            "HELLO\n"
          ]
        }
      ]
    },
    {
      "cell_type": "code",
      "source": [
        "# 5 - Write a code to replace the word \"apple\" with \"orange\" in the string \"I like apple\".\n",
        "\n",
        "input_string = \"I like apple\"\n",
        "replaced_string = input_string.replace(\"apple\", \"orange\")\n",
        "\n",
        "print(replaced_string)\n"
      ],
      "metadata": {
        "colab": {
          "base_uri": "https://localhost:8080/"
        },
        "id": "nwxD3s1_lCWD",
        "outputId": "fa27378b-5ab2-46b7-f86e-7a4ce9be0b72"
      },
      "execution_count": 7,
      "outputs": [
        {
          "output_type": "stream",
          "name": "stdout",
          "text": [
            "I like orange\n"
          ]
        }
      ]
    },
    {
      "cell_type": "code",
      "source": [
        "# 6 - Write a code to create a list with numbers 1 to 5 and print it.\n",
        "\n",
        "list = [1, 2, 3, 4, 5]\n",
        "\n",
        "print(list)\n"
      ],
      "metadata": {
        "colab": {
          "base_uri": "https://localhost:8080/"
        },
        "id": "hklXloWdl3C8",
        "outputId": "c22201d7-c7b9-4923-b341-f6a37f67cd4a"
      },
      "execution_count": 8,
      "outputs": [
        {
          "output_type": "stream",
          "name": "stdout",
          "text": [
            "[1, 2, 3, 4, 5]\n"
          ]
        }
      ]
    },
    {
      "cell_type": "code",
      "source": [
        "# 7 - Write a code to append the number 10 to the list [1, 2, 3, 4]\n",
        "\n",
        "list = [1, 2, 3, 4]\n",
        "list.append(10)\n",
        "\n",
        "print(list)"
      ],
      "metadata": {
        "colab": {
          "base_uri": "https://localhost:8080/"
        },
        "id": "jerTsRBSmpAH",
        "outputId": "58960f5b-57db-4db0-82d9-0e762cd268e3"
      },
      "execution_count": 9,
      "outputs": [
        {
          "output_type": "stream",
          "name": "stdout",
          "text": [
            "[1, 2, 3, 4, 10]\n"
          ]
        }
      ]
    },
    {
      "cell_type": "code",
      "source": [
        "# 8 - Write a code to remove the number 3 from the list [1, 2, 3, 4, 5].\n",
        "\n",
        "list = [1, 2, 3, 4, 5]\n",
        "list.remove(3)\n",
        "\n",
        "print(list)"
      ],
      "metadata": {
        "colab": {
          "base_uri": "https://localhost:8080/"
        },
        "id": "yrB0PT9ToRPt",
        "outputId": "8b8814fc-1fe2-44d4-b756-3dc6fa241015"
      },
      "execution_count": 10,
      "outputs": [
        {
          "output_type": "stream",
          "name": "stdout",
          "text": [
            "[1, 2, 4, 5]\n"
          ]
        }
      ]
    },
    {
      "cell_type": "code",
      "source": [
        "# 9 - Write a code to access the second element in the list ['a', 'b', 'c', 'd'].\n",
        "\n",
        "list = ['a', 'b', 'c', 'd']\n",
        "second_element = list[1]\n",
        "\n",
        "print(second_element)"
      ],
      "metadata": {
        "colab": {
          "base_uri": "https://localhost:8080/"
        },
        "id": "sKpjmF80oopJ",
        "outputId": "444ff6b4-9646-4ceb-b401-c2ccac94fe64"
      },
      "execution_count": 11,
      "outputs": [
        {
          "output_type": "stream",
          "name": "stdout",
          "text": [
            "b\n"
          ]
        }
      ]
    },
    {
      "cell_type": "code",
      "source": [
        "# 10 - Write a code to reverse the list [10, 20, 30, 40, 50].\n",
        "\n",
        "list = [10, 20, 30, 40, 50]\n",
        "reversed_list = list[::-1]\n",
        "\n",
        "print(reversed_list)"
      ],
      "metadata": {
        "colab": {
          "base_uri": "https://localhost:8080/"
        },
        "id": "JyPrG2nUo-7Y",
        "outputId": "cc704bb7-8774-41f9-b7d4-5d0c3d5efed9"
      },
      "execution_count": 12,
      "outputs": [
        {
          "output_type": "stream",
          "name": "stdout",
          "text": [
            "[50, 40, 30, 20, 10]\n"
          ]
        }
      ]
    },
    {
      "cell_type": "code",
      "source": [
        "# 11 -  Write a code to create a tuple with the elements 100, 200, 300 and print it.\n",
        "\n",
        "tuple = (100, 200, 300)\n",
        "\n",
        "print(tuple)"
      ],
      "metadata": {
        "colab": {
          "base_uri": "https://localhost:8080/"
        },
        "id": "NIhq0jGtpWk7",
        "outputId": "bda5a288-56de-4840-8090-6c52775b0df3"
      },
      "execution_count": 13,
      "outputs": [
        {
          "output_type": "stream",
          "name": "stdout",
          "text": [
            "(100, 200, 300)\n"
          ]
        }
      ]
    },
    {
      "cell_type": "code",
      "source": [
        "# 12 - Write a code to access the second-to-last element of the tuple ('red', 'green', 'blue', 'yellow').\n",
        "\n",
        "tuple = ('red', 'green', 'blue', 'yellow')\n",
        "second_to_last_element = tuple[-2]\n",
        "\n",
        "print(second_to_last_element)"
      ],
      "metadata": {
        "colab": {
          "base_uri": "https://localhost:8080/"
        },
        "id": "C5Vxik55prwN",
        "outputId": "640261a9-39bd-4851-bdbd-e04ddb1dbe4d"
      },
      "execution_count": 14,
      "outputs": [
        {
          "output_type": "stream",
          "name": "stdout",
          "text": [
            "blue\n"
          ]
        }
      ]
    },
    {
      "cell_type": "code",
      "source": [
        "# 13 - Write a code to find the minimum number in the tuple (10, 20, 5, 15).\n",
        "\n",
        "tuple = (10, 20, 5, 15)\n",
        "min_number = min(tuple)\n",
        "\n",
        "print(min_number)"
      ],
      "metadata": {
        "colab": {
          "base_uri": "https://localhost:8080/"
        },
        "id": "m5qOQHkkujyF",
        "outputId": "a1eb21f9-8dfe-4e47-c50b-a6325efe7d45"
      },
      "execution_count": 15,
      "outputs": [
        {
          "output_type": "stream",
          "name": "stdout",
          "text": [
            "5\n"
          ]
        }
      ]
    },
    {
      "cell_type": "code",
      "source": [
        "# 14 - Write a code to find the index of the element \"cat\" in the tuple ('dog', 'cat', 'rabbit').\n",
        "\n",
        "animals = ('dog', 'cat', 'rabbit')\n",
        "index_of_cat = animals.index('cat')\n",
        "print(f\"The index of 'cat' is: {index_of_cat}\")\n"
      ],
      "metadata": {
        "colab": {
          "base_uri": "https://localhost:8080/"
        },
        "id": "WrSYucIovJam",
        "outputId": "661188b2-7c77-40a3-8677-c45ea77edd48"
      },
      "execution_count": 22,
      "outputs": [
        {
          "output_type": "stream",
          "name": "stdout",
          "text": [
            "The index of 'cat' is: 1\n"
          ]
        }
      ]
    },
    {
      "cell_type": "code",
      "source": [
        "# 15 -Write a code to create a tuple containing three different fruits and check if \"kiwi\" is in it.\n",
        "\n",
        "fruits = (\"apple\", \"banana\", \"orange\")\n",
        "\n",
        "if \"kiwi\" in fruits:\n",
        "  print(\"Kiwi is in the tuple\")\n",
        "else:\n",
        "  print(\"Kiwi is not in the tuple \")"
      ],
      "metadata": {
        "colab": {
          "base_uri": "https://localhost:8080/"
        },
        "id": "z2rv18Rfx56D",
        "outputId": "d5a4cfe5-4934-417e-cea7-e8b3f4ffc811"
      },
      "execution_count": 23,
      "outputs": [
        {
          "output_type": "stream",
          "name": "stdout",
          "text": [
            "Kiwi is not in the tuple \n"
          ]
        }
      ]
    },
    {
      "cell_type": "code",
      "source": [
        "# 16 Write a code to create a set with the elements 'a', 'b', 'c' and print it.\n",
        "\n",
        "set = ('a', 'b', 'c')\n",
        "print(set)"
      ],
      "metadata": {
        "colab": {
          "base_uri": "https://localhost:8080/"
        },
        "id": "sV6F9Btp05qY",
        "outputId": "4c37a445-4f13-4e64-be7c-a67ed0077ff9"
      },
      "execution_count": 24,
      "outputs": [
        {
          "output_type": "stream",
          "name": "stdout",
          "text": [
            "('a', 'b', 'c')\n"
          ]
        }
      ]
    },
    {
      "cell_type": "code",
      "source": [
        "# 17 Write a code to clear all elements from the set {1, 2, 3, 4, 5}.\n",
        "\n",
        "set = {1, 2, 3 , 4, 5}\n",
        "set.clear()\n",
        "print(set)\n"
      ],
      "metadata": {
        "colab": {
          "base_uri": "https://localhost:8080/"
        },
        "id": "uVL5uyWD2Y4U",
        "outputId": "e6e2cd11-3c03-45ef-b79b-7d37c1aef16d"
      },
      "execution_count": 26,
      "outputs": [
        {
          "output_type": "stream",
          "name": "stdout",
          "text": [
            "set()\n"
          ]
        }
      ]
    },
    {
      "cell_type": "code",
      "source": [
        "# 18 Write a code to remove the element 4 from the set {1, 2, 3, 4}\n",
        "\n",
        "set = {1, 2, 3, 4}\n",
        "set.remove(4)\n",
        "print(set)"
      ],
      "metadata": {
        "colab": {
          "base_uri": "https://localhost:8080/"
        },
        "id": "BO7vFyjQ3HPt",
        "outputId": "c75cb053-3a1b-475f-d76d-9efdd8ee91a1"
      },
      "execution_count": 27,
      "outputs": [
        {
          "output_type": "stream",
          "name": "stdout",
          "text": [
            "{1, 2, 3}\n"
          ]
        }
      ]
    },
    {
      "cell_type": "code",
      "source": [
        "# 19 Write a code to find the union of two sets {1, 2, 3} and {3, 4, 5}.\n",
        "\n",
        "a = {1, 2, 3}\n",
        "b = {3, 4, 5}\n",
        "\n",
        "print(a.union(b))"
      ],
      "metadata": {
        "colab": {
          "base_uri": "https://localhost:8080/"
        },
        "id": "4yM3Wydw3q9c",
        "outputId": "4072bcf2-0a6d-4fd3-aec7-c72ed0ba268c"
      },
      "execution_count": 28,
      "outputs": [
        {
          "output_type": "stream",
          "name": "stdout",
          "text": [
            "{1, 2, 3, 4, 5}\n"
          ]
        }
      ]
    },
    {
      "cell_type": "code",
      "source": [
        "# 20  Write a code to find the intersection of two sets {1, 2, 3} and {2, 3, 4}\n",
        "\n",
        "a = {1, 2, 3}\n",
        "b = {2, 3, 4}\n",
        "\n",
        "print(a.intersection(b))"
      ],
      "metadata": {
        "colab": {
          "base_uri": "https://localhost:8080/"
        },
        "id": "97rdeDMF4fj4",
        "outputId": "62f11992-b4c6-4fed-9b9a-fe270dfd1f65"
      },
      "execution_count": 29,
      "outputs": [
        {
          "output_type": "stream",
          "name": "stdout",
          "text": [
            "{2, 3}\n"
          ]
        }
      ]
    },
    {
      "cell_type": "code",
      "source": [
        "# 21  Write a code to create a dictionary with the keys \"name\", \"age\", and \"city\", and print it.\n",
        "\n",
        "dict = {\"name\": \"Anjali\", \"age\": 27, \"city\": \"Kanpur\"}\n",
        "print(dict)"
      ],
      "metadata": {
        "colab": {
          "base_uri": "https://localhost:8080/"
        },
        "id": "cNsec3cM5ZV8",
        "outputId": "aa49a22d-2bb4-43eb-eb6e-4ba868c3681f"
      },
      "execution_count": 30,
      "outputs": [
        {
          "output_type": "stream",
          "name": "stdout",
          "text": [
            "{'name': 'Anjali', 'age': 27, 'city': 'Kanpur'}\n"
          ]
        }
      ]
    },
    {
      "cell_type": "code",
      "source": [
        "# 22 Write a code to add a new key-value pair \"country\": \"USA\" to the dictionary {'name': 'John', 'age': 25}.\n",
        "\n",
        "dict = {'name': 'John', 'age': 25}\n",
        "dict['country'] = 'USA'\n",
        "print(dict)"
      ],
      "metadata": {
        "colab": {
          "base_uri": "https://localhost:8080/"
        },
        "id": "LDeL3SDt8Sac",
        "outputId": "2ca30ffd-7de6-4ef1-a2de-606ce1cf53eb"
      },
      "execution_count": 31,
      "outputs": [
        {
          "output_type": "stream",
          "name": "stdout",
          "text": [
            "{'name': 'John', 'age': 25, 'country': 'USA'}\n"
          ]
        }
      ]
    },
    {
      "cell_type": "code",
      "source": [
        "# 23  Write a code to access the value associated with the key \"name\" in the dictionary {'name': 'Alice', 'age': 30}.\n",
        "\n",
        "dict = {'name': 'Alice', 'age': 30}\n",
        "name = dict['name']\n",
        "print(name)"
      ],
      "metadata": {
        "colab": {
          "base_uri": "https://localhost:8080/"
        },
        "id": "tHn_SmXs_Zlk",
        "outputId": "1bc73bc5-0f25-4d1a-ca74-0823268db1b4"
      },
      "execution_count": 32,
      "outputs": [
        {
          "output_type": "stream",
          "name": "stdout",
          "text": [
            "Alice\n"
          ]
        }
      ]
    },
    {
      "cell_type": "code",
      "source": [
        "# 24  Write a code to remove the key \"age\" from the dictionary {'name': 'Bob', 'age': 22, 'city': 'New York'}.\n",
        "\n",
        "dict = {'name': 'Bob', 'age': 22, 'city': 'New York'}\n",
        "del dict[\"age\"]\n",
        "print(dict)"
      ],
      "metadata": {
        "colab": {
          "base_uri": "https://localhost:8080/"
        },
        "id": "1F8TRaz3ARyX",
        "outputId": "53f0735e-06f1-483f-fee2-1df91b74b057"
      },
      "execution_count": 35,
      "outputs": [
        {
          "output_type": "stream",
          "name": "stdout",
          "text": [
            "{'name': 'Bob', 'city': 'New York'}\n"
          ]
        }
      ]
    },
    {
      "cell_type": "code",
      "source": [
        "# 25  Write a code to check if the key \"city\" exists in the dictionary {'name': 'Alice', 'city': 'Paris'}.\n",
        "\n",
        "dict = {'name': 'Alice', 'city': 'Paris'}\n",
        "if 'city' in dict:\n",
        "  print(\"The key 'city' exists in the dictionary.\")\n",
        "else:\n",
        "  print(\"The key 'city' does not exist in the dictionary.\")"
      ],
      "metadata": {
        "colab": {
          "base_uri": "https://localhost:8080/"
        },
        "id": "OiVE10pBBJQk",
        "outputId": "771ff3f0-05b4-4958-e6d5-916b01ba984e"
      },
      "execution_count": 37,
      "outputs": [
        {
          "output_type": "stream",
          "name": "stdout",
          "text": [
            "The key 'city' exists in the dictionary.\n"
          ]
        }
      ]
    },
    {
      "cell_type": "code",
      "source": [
        "# 26  Write a code to create a list, a tuple, and a dictionary, and print them all\n",
        "\n",
        "list = {1, 2, 3, 4, 5}\n",
        "\n",
        "tuple = (6, 7, 8 , 9, 10)\n",
        "\n",
        "dict = {\"a\": 11, \"b\": 12, \"c\": 13}\n",
        "\n",
        "print(\"List:\", list)\n",
        "print(\"Tuple:\", tuple)\n",
        "print(\"dict:\", dict)"
      ],
      "metadata": {
        "colab": {
          "base_uri": "https://localhost:8080/"
        },
        "id": "M5pN3wlYCVe4",
        "outputId": "f75d98b8-832b-4dcf-94ad-e8126c8db4f7"
      },
      "execution_count": 42,
      "outputs": [
        {
          "output_type": "stream",
          "name": "stdout",
          "text": [
            "List: {1, 2, 3, 4, 5}\n",
            "Tuple: (6, 7, 8, 9, 10)\n",
            "dict: {'a': 11, 'b': 12, 'c': 13}\n"
          ]
        }
      ]
    },
    {
      "cell_type": "code",
      "source": [
        "# 27 Write a code to create a list of 5 random numbers between 1 and 100, sort it in ascending order, and print the result.(replaced).\n",
        "\n",
        "import random\n",
        "def create_sort_print_random_list():\n",
        "    random_numbers = random.sample(range(1, 101), 5)\n",
        "    random_numbers.sort()\n",
        "    print(random_numbers)\n",
        "\n",
        "create_sort_print_random_list()\n"
      ],
      "metadata": {
        "colab": {
          "base_uri": "https://localhost:8080/"
        },
        "id": "pdE-7iAFEJJV",
        "outputId": "027fd6d5-6a03-4d6d-bfdc-81a60b6f549a"
      },
      "execution_count": 44,
      "outputs": [
        {
          "output_type": "stream",
          "name": "stdout",
          "text": [
            "[8, 23, 44, 46, 69]\n"
          ]
        }
      ]
    },
    {
      "cell_type": "code",
      "source": [
        "# 28  Write a code to create a list with strings and print the element at the third index.\n",
        "\n",
        "list = [\"apple\", \"banana\", \"cherry\", \"date\", \"elderberry\"]\n",
        "print(list[2])"
      ],
      "metadata": {
        "colab": {
          "base_uri": "https://localhost:8080/"
        },
        "id": "tPtFVkAnHY_V",
        "outputId": "1ae627c1-4d03-4505-98bc-f32b8c9b179b"
      },
      "execution_count": 48,
      "outputs": [
        {
          "output_type": "stream",
          "name": "stdout",
          "text": [
            "cherry\n"
          ]
        }
      ]
    },
    {
      "cell_type": "code",
      "source": [
        "# 29 Write a code to combine two dictionaries into one and print the result.\n",
        "\n",
        "def combine_dictionaries(dict1, dict2):\n",
        "\n",
        " combined_dict = dict1.copy()\n",
        " combined_dict.update(dict2)  # Update the copy with key-value pairs from dict2\n",
        " return combined_dict\n",
        "\n",
        "dict1 = {\"a\": 1, \"b\": 2}\n",
        "dict2 = {\"c\": 3, \"d\": 4, \"b\": 5}  # Key \"b\" exists in both, so value from dict2 overrides\n",
        "\n",
        "combined = combine_dictionaries(dict1, dict2)\n",
        "combined\n"
      ],
      "metadata": {
        "colab": {
          "base_uri": "https://localhost:8080/"
        },
        "id": "ECDkEuyLIOeo",
        "outputId": "37bc1fba-cef5-4fca-9aa9-0560ecc6668a"
      },
      "execution_count": 57,
      "outputs": [
        {
          "output_type": "execute_result",
          "data": {
            "text/plain": [
              "{'a': 1, 'b': 5, 'c': 3, 'd': 4}"
            ]
          },
          "metadata": {},
          "execution_count": 57
        }
      ]
    },
    {
      "cell_type": "code",
      "source": [
        "# 30 Write a code to convert a list of strings into a set.\n",
        "\n",
        "# Given list of strings\n",
        "string_list = [\"apple\", \"banana\", \"apple\", \"cherry\", \"banana\"]\n",
        "\n",
        "# Converting the list to a set\n",
        "string_set = set(string_list)\n",
        "\n",
        "# Printing the set\n",
        "print(string_set)"
      ],
      "metadata": {
        "colab": {
          "base_uri": "https://localhost:8080/"
        },
        "id": "TsarfkKXMFKc",
        "outputId": "ed7c6042-addf-4c01-9368-0002eb279d43"
      },
      "execution_count": 1,
      "outputs": [
        {
          "output_type": "stream",
          "name": "stdout",
          "text": [
            "{'banana', 'apple', 'cherry'}\n"
          ]
        }
      ]
    }
  ]
}